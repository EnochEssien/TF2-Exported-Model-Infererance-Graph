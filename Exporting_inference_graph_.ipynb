{
  "nbformat": 4,
  "nbformat_minor": 0,
  "metadata": {
    "colab": {
      "provenance": []
    },
    "kernelspec": {
      "name": "python3",
      "display_name": "Python 3"
    },
    "language_info": {
      "name": "python"
    }
  },
  "cells": [
    {
      "cell_type": "markdown",
      "source": [
        "**Install and Import Necessary Libraries**"
      ],
      "metadata": {
        "id": "STze-bK60zY_"
      }
    },
    {
      "cell_type": "code",
      "execution_count": null,
      "metadata": {
        "id": "uSt-iyPwS4EP"
      },
      "outputs": [],
      "source": [
        "!pip install --upgrade pip\n",
        "!pip install tensorflow\n",
        "!pip install tensorflow.io\n",
        "!pip install protobuf\n",
        "!pip install tensorflow-object-detection-api\n",
        "!pip install opencv-python\n",
        "!pip install numpy==1.23\n",
        "!pip install lvis\n",
        "!pip install absl-py\n",
        "!pip install pandas\n",
        "!pip install cython\n",
        "import os\n",
        "from google.colab import drive\n",
        "\n"
      ]
    },
    {
      "cell_type": "markdown",
      "source": [
        "**Install and Activate Tensorflow Object Detection API**"
      ],
      "metadata": {
        "id": "BoSZDAk50-fq"
      }
    },
    {
      "cell_type": "code",
      "source": [
        "drive.mount('/content/gdrive')\n",
        "%cd /content/gdrive/My Drive/ModelsTF2/research\n",
        "\n",
        "!protoc object_detection/protos/*.proto --python_out=."
      ],
      "metadata": {
        "id": "bX4XBtUkbQbS"
      },
      "execution_count": null,
      "outputs": []
    },
    {
      "cell_type": "code",
      "source": [
        "%cd /content/gdrive/My Drive/ModelsTF2/research/object_detection/packages/tf2\n",
        "!python setup.py build\n",
        "!python setup.py install"
      ],
      "metadata": {
        "id": "zyqgBOtafC-s"
      },
      "execution_count": null,
      "outputs": []
    },
    {
      "cell_type": "code",
      "source": [
        "%cd /content/gdrive/My Drive/models/research/object_detection\n",
        "os.environ['PYTHONPATH'] += ':/content/gdrive/My Drive/ModelsTF2/research/:/content/gdrive/My Drive/Tensorflow/models/research/slim'"
      ],
      "metadata": {
        "id": "3h5kyLIDvq5E"
      },
      "execution_count": null,
      "outputs": []
    },
    {
      "cell_type": "markdown",
      "source": [
        "**Test Installed API**"
      ],
      "metadata": {
        "id": "AvfiSQrB1Pkd"
      }
    },
    {
      "cell_type": "code",
      "source": [
        "%cd /content/gdrive/My Drive/ModelsTF2/research\n",
        "!python object_detection/builders/model_builder_tf2_test.py"
      ],
      "metadata": {
        "id": "NG9OSiXNvMXd"
      },
      "execution_count": null,
      "outputs": []
    },
    {
      "cell_type": "markdown",
      "source": [
        "**Export and Save trained Object Detection Model**"
      ],
      "metadata": {
        "id": "LDgkP5BL2bws"
      }
    },
    {
      "cell_type": "code",
      "source": [
        "%cd '/content/gdrive/My Drive/ModelsTF2/research/object_detection'\n",
        "!python exporter_main_v2.py --input_type image_tensor --pipeline_config_path training/pipeline.config --trained_checkpoint_dir training --output_directory exported-models/FaceMaskDetectorV1"
      ],
      "metadata": {
        "id": "XPMt2LkNDIHu"
      },
      "execution_count": null,
      "outputs": []
    }
  ]
}